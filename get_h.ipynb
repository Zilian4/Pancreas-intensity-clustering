{
 "cells": [
  {
   "cell_type": "code",
   "execution_count": 1,
   "metadata": {},
   "outputs": [],
   "source": [
    "import os\n",
    "import SimpleITK as sitk\n",
    "import numpy as np\n",
    "import shutil\n",
    "path = 'D:\\Data\\IPMNT2_Clustering\\Clustering_mask\\\\original_image\\kmeans Clusters_3'\n",
    "target = 'D:\\Data\\IPMNT2_Clustering\\Clustering_mask\\\\original_image\\high_intensity_cluster'\n",
    "for name in os.listdir(path):\n",
    "    if name.startswith('.'):\n",
    "        continue\n",
    "    image = sitk.ReadImage(os.path.join(path, name))\n",
    "    image_array = sitk.GetArrayFromImage(image)\n",
    "    image_array = np.where(image_array == 3, 1, 0)\n",
    "    new_image = sitk.GetImageFromArray(image_array)\n",
    "    new_image.SetSpacing(image.GetSpacing())\n",
    "    new_image.SetOrigin(image.GetOrigin())\n",
    "    new_image.CopyInformation(image)\n",
    "    new_image.SetDirection(image.GetDirection())\n",
    "    sitk.WriteImage(new_image, os.path.join(target, name))\n"
   ]
  }
 ],
 "metadata": {
  "kernelspec": {
   "display_name": "medical-image",
   "language": "python",
   "name": "python3"
  },
  "language_info": {
   "codemirror_mode": {
    "name": "ipython",
    "version": 3
   },
   "file_extension": ".py",
   "mimetype": "text/x-python",
   "name": "python",
   "nbconvert_exporter": "python",
   "pygments_lexer": "ipython3",
   "version": "3.10.15"
  }
 },
 "nbformat": 4,
 "nbformat_minor": 2
}
