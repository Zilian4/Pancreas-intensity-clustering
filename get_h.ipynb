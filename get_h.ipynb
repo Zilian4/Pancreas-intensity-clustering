{
 "cells": [
  {
   "cell_type": "code",
   "execution_count": 5,
   "metadata": {},
   "outputs": [],
   "source": [
    "import os\n",
    "import SimpleITK as sitk\n",
    "import numpy as np\n",
    "import shutil\n",
    "# path = 'D:\\Data\\IPMNT2_Clustering\\Clustering_mask\\\\original_image\\kmeans Clusters_3'\n",
    "# target = 'D:\\Data\\IPMNT2_Clustering\\Clustering_mask\\\\original_image\\high_intensity_cluster'\n",
    "# for name in os.listdir(path):\n",
    "#     if name.startswith('.'):\n",
    "#         continue\n",
    "#     image = sitk.ReadImage(os.path.join(path, name))\n",
    "#     image_array = sitk.GetArrayFromImage(image)\n",
    "#     image_array = np.where(image_array == 3, 1, 0)\n",
    "#     new_image = sitk.GetImageFromArray(image_array)\n",
    "#     new_image.SetSpacing(image.GetSpacing())\n",
    "#     new_image.SetOrigin(image.GetOrigin())\n",
    "#     new_image.CopyInformation(image)\n",
    "#     new_image.SetDirection(image.GetDirection())\n",
    "#     sitk.WriteImage(new_image, os.path.join(target, name))\n"
   ]
  },
  {
   "cell_type": "code",
   "execution_count": 6,
   "metadata": {},
   "outputs": [],
   "source": [
    "seg_path = 'D:\\Data\\IPMNT2_Clustering\\Clustering_mask\\\\bilateral_n4bias\\cystsMask_intensity'\n",
    "src_path = 'D:\\Data\\IPMNT2_Clustering\\Clustering_mask\\\\bilateral_n4bias_nyul\\high_intensity_cluster'\n",
    "target_path = 'D:\\Data\\IPMNT2_Clustering\\Clustering_mask\\\\bilateral_n4bias_nyul\\cystMask_intensity'\n",
    "for name in os.listdir(seg_path):\n",
    "    if name.startswith('.'):\n",
    "        continue\n",
    "    src = os.path.join(src_path, name)\n",
    "    target = os.path.join(target_path, name)\n",
    "    shutil.copy(src, target)"
   ]
  }
 ],
 "metadata": {
  "kernelspec": {
   "display_name": "medical-image",
   "language": "python",
   "name": "python3"
  },
  "language_info": {
   "codemirror_mode": {
    "name": "ipython",
    "version": 3
   },
   "file_extension": ".py",
   "mimetype": "text/x-python",
   "name": "python",
   "nbconvert_exporter": "python",
   "pygments_lexer": "ipython3",
   "version": "3.10.15"
  }
 },
 "nbformat": 4,
 "nbformat_minor": 2
}
