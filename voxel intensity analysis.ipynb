{
 "cells": [
  {
   "cell_type": "code",
   "execution_count": 25,
   "metadata": {},
   "outputs": [],
   "source": [
    "import nibabel as nib\n",
    "import numpy as np\n",
    "from sklearn.cluster import KMeans\n",
    "import os\n",
    "import cv2\n",
    "import matplotlib.pyplot as plt"
   ]
  },
  {
   "cell_type": "code",
   "execution_count": null,
   "metadata": {},
   "outputs": [],
   "source": []
  },
  {
   "cell_type": "code",
   "execution_count": 59,
   "metadata": {},
   "outputs": [],
   "source": [
    "cluster_dir = '/Volumes/Elements/Clustering_T2/kmeans Clusters_3'\n",
    "image_dir = '/Volumes/Elements/Clustering_T2/intensity_normalized'\n",
    "for name in os.listdir(image_dir):\n",
    "    # Load image\n",
    "    # if name.endswith('.nii.gz') and not name.startswith('.'):\n",
    "    try:\n",
    "        image_path = os.path.join(image_dir,name)\n",
    "        img = nib.load(image_path)\n",
    "        img_np = img.get_fdata()\n",
    "        \n",
    "        # Load clusters label\n",
    "        clusters_path = os.path.join(cluster_dir,name)\n",
    "        clusters = nib.load(clusters_path)\n",
    "        clusters_np = clusters.get_fdata()\n",
    "        \n",
    "        # match the corresponding cluster region\n",
    "        mask_1 = (clusters_np == 1)\n",
    "        mask_2 = (clusters_np == 2)\n",
    "        mask_3 = (clusters_np == 3)\n",
    "        cluster_1 = np.where(mask_1, img_np, 0)\n",
    "        cluster_2 = np.where(mask_2, img_np, 0)\n",
    "        cluster_3 = np.where(mask_3, img_np, 0)\n",
    "        \n",
    "        plt.figure(figsize=(14, 6))\n",
    "        plt.hist(cluster_1.flatten(), bins=256, range =(1,256),edgecolor='black', alpha=0.5,color = 'red',label='Low intensity')\n",
    "        plt.hist(cluster_2.flatten(), bins=256, range =(1,256),edgecolor='black', alpha=0.5,color = 'PaleGreen',label='Mediean intensity')\n",
    "        plt.hist(cluster_3.flatten(), bins=256, range =(1,256),edgecolor='black', alpha=0.5,color = 'Blue',label='High intensity')\n",
    "        plt.title(\"Intensity Histogram\", fontsize=14)\n",
    "        plt.xlabel(\"Intensity Value\", fontsize=12)\n",
    "        plt.ylabel(\"Frequency\", fontsize=12)\n",
    "        plt.grid(axis='y', linestyle='--', alpha=0.7)\n",
    "        plt.legend(loc='upper right', fontsize=12)\n",
    "        # plt.show()\n",
    "        plt.savefig(f\"/Volumes/Elements/Clustering_T2/Hist-all-images/{name}.png\", dpi=300, bbox_inches='tight')\n",
    "        plt.close()\n",
    "    except Exception as e:\n",
    "        print(f'Error occured:{e}')"
   ]
  }
 ],
 "metadata": {
  "kernelspec": {
   "display_name": "medical-image",
   "language": "python",
   "name": "python3"
  },
  "language_info": {
   "codemirror_mode": {
    "name": "ipython",
    "version": 3
   },
   "file_extension": ".py",
   "mimetype": "text/x-python",
   "name": "python",
   "nbconvert_exporter": "python",
   "pygments_lexer": "ipython3",
   "version": "3.10.15"
  }
 },
 "nbformat": 4,
 "nbformat_minor": 2
}
