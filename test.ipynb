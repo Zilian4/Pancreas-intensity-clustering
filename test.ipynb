{
 "cells": [
  {
   "cell_type": "code",
   "execution_count": 1,
   "metadata": {},
   "outputs": [],
   "source": [
    "import itk\n",
    "import SimpleITK as sitk"
   ]
  },
  {
   "cell_type": "code",
   "execution_count": 15,
   "metadata": {},
   "outputs": [],
   "source": [
    "import numpy as np\n",
    "\n",
    "from skimage.filters.rank import entropy\n",
    "from skimage.morphology import ball\n",
    "from skimage.measure import shannon_entropy\n",
    "from scipy.ndimage import generic_filter\n",
    "import os\n",
    "import shutil"
   ]
  },
  {
   "cell_type": "code",
   "execution_count": 21,
   "metadata": {},
   "outputs": [],
   "source": [
    "target_dir ='D:\\\\Data\\\\IPMNT2_Clustering\\\\Clustering_mask\\\\bilateral_n4bias_nyul\\\\cyst_intensity_mask'\n",
    "mask_dir = 'D:\\Data\\IPMNT2_Clustering\\cystsMask_all'   \n",
    "cyst_mask_dir = 'D:\\\\Data\\\\IPMNT2_Clustering\\\\Clustering_mask\\\\bilateral_n4bias_nyul\\\\high_intensity_cluster'\n",
    "# save_dir = r'D:\\Data\\\\IPMNT2_Clustering\\\\cystMask_all_corrected'\n",
    "\n",
    "for filename in os.listdir(mask_dir):\n",
    "    if filename.endswith('.nii.gz'):\n",
    "        try:\n",
    "            shutil.copy(os.path.join(cyst_mask_dir, filename), os.path.join(target_dir, filename))\n",
    "        except:\n",
    "            # raise Exception('Error in copying files')\n",
    "            continue\n"
   ]
  },
  {
   "cell_type": "code",
   "execution_count": 20,
   "metadata": {},
   "outputs": [],
   "source": [
    "import os\n",
    "import SimpleITK as sitk\n",
    "import numpy as np\n",
    "cluster_dir = 'D:\\Data\\IPMNT2_Clustering\\Clustering_mask\\\\bilateral_n4bias\\kmeans Clusters_3'\n",
    "high_dir = 'D:\\\\Data\\\\IPMNT2_Clustering\\\\Clustering_mask\\\\bilateral_n4bias_nyul\\\\high_intensity_cluster'\n",
    "for filename in os.listdir(cluster_dir):\n",
    "    if filename.endswith('.nii.gz'):\n",
    "        try:\n",
    "            cluster_path = os.path.join(cluster_dir, filename)\n",
    "            high_path = os.path.join(high_dir, filename)\n",
    "            cluster = sitk.ReadImage(cluster_path)\n",
    "            cluster_array = sitk.GetArrayFromImage(cluster)\n",
    "            # print(np.unique(cluster_array).max())\n",
    "            high_array = np.where(cluster_array == 3, 1, 0)\n",
    "            high_intensity_mask = sitk.GetImageFromArray(high_array)\n",
    "            high_intensity_mask.SetOrigin(cluster.GetOrigin())\n",
    "            high_intensity_mask.SetDirection(cluster.GetDirection())\n",
    "            high_intensity_mask.SetSpacing(cluster.GetSpacing())\n",
    "            high_intensity_mask.CopyInformation(cluster)\n",
    "            # print(np.unique(high_array))\n",
    "            # cluster_array = cluster_array * high_array\n",
    "            # cluster = sitk.GetImageFromArray(cluster_array)\n",
    "            # cluster.SetOrigin(high.GetOrigin())\n",
    "            # cluster.SetDirection(high.GetDirection())\n",
    "            # cluster.SetSpacing(high.GetSpacing())\n",
    "            # cluster.CopyInformation(high)\n",
    "            sitk.WriteImage(high_intensity_mask, os.path.join(high_dir, filename))\n",
    "        except Exception as e:\n",
    "            print(filename, e)"
   ]
  }
 ],
 "metadata": {
  "kernelspec": {
   "display_name": "medical-image",
   "language": "python",
   "name": "python3"
  },
  "language_info": {
   "codemirror_mode": {
    "name": "ipython",
    "version": 3
   },
   "file_extension": ".py",
   "mimetype": "text/x-python",
   "name": "python",
   "nbconvert_exporter": "python",
   "pygments_lexer": "ipython3",
   "version": "3.10.15"
  }
 },
 "nbformat": 4,
 "nbformat_minor": 2
}
