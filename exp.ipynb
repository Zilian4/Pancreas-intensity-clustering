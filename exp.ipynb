{
 "cells": [
  {
   "cell_type": "code",
   "execution_count": 2,
   "metadata": {},
   "outputs": [],
   "source": [
    "import nibabel as nib\n",
    "import numpy as np\n",
    "from sklearn.cluster import KMeans\n",
    "import os\n",
    "import cv2"
   ]
  },
  {
   "cell_type": "code",
   "execution_count": 52,
   "metadata": {},
   "outputs": [],
   "source": [
    "def intensity_clustering(input_path, output_path, n_clusters=3):\n",
    "    \n",
    "    img = nib.load(input_path)\n",
    "    img_data = img.get_fdata()\n",
    "    flat_data = img_data.reshape(-1, 1)\n",
    "    \n",
    "    tissue_mask = flat_data != 0\n",
    "    tissue_part = flat_data[tissue_mask].reshape(-1, 1)\n",
    "    \n",
    "    kmeans = KMeans(n_clusters=n_clusters, random_state=42)\n",
    "    kmeans.fit(tissue_part)\n",
    "    \n",
    "    tissue_clustered_label= kmeans.labels_ # get the clustering results of tissue\n",
    "    image_clustered = np.zeros_like(flat_data) # zero array to store results\n",
    "    image_clustered[tissue_mask] = tissue_clustered_label+1 # insert results in the zore array\n",
    "    \n",
    "    image_clustered = image_clustered.reshape(img_data.shape) # reshape\n",
    "    new_img = nib.Nifti1Image(image_clustered.astype(np.int16), img.affine, img.header)\n",
    "    nib.save(new_img, output_path)\n",
    "    \n",
    "    print(f\"Clustering result saved as {output_path}\")\n",
    "    return image_clustered"
   ]
  },
  {
   "cell_type": "code",
   "execution_count": null,
   "metadata": {},
   "outputs": [],
   "source": []
  },
  {
   "cell_type": "code",
   "execution_count": null,
   "metadata": {},
   "outputs": [],
   "source": [
    "input_dir = '/Volumes/Elements/DATASET/IPMN_t2_cyst/main_images/'\n",
    "for name in os.listdir(input_dir):\n",
    "    if name.endswith('.nii.gz'):\n",
    "        input_path = os.path.join(input_dir,name)\n",
    "        img = nib.load(input_path)\n",
    "        img_data = img.get_fdata()\n",
    "        print(f\"Clustering result saved as {output_path}\")"
   ]
  },
  {
   "cell_type": "code",
   "execution_count": 53,
   "metadata": {},
   "outputs": [
    {
     "name": "stdout",
     "output_type": "stream",
     "text": [
      "Clustering result saved as ./cluster_test.nii.gz\n"
     ]
    }
   ],
   "source": [
    "\n",
    "input_path = '/Users/zilianghong/Documents/T2/EMC076.nii.gz'\n",
    "output_path = f'./cluster_test.nii.gz'\n",
    "c_data = intensity_clustering(input_path=input_path,output_path=output_path)\n",
    "\n",
    "    \n"
   ]
  },
  {
   "cell_type": "code",
   "execution_count": 45,
   "metadata": {},
   "outputs": [
    {
     "data": {
      "text/plain": [
       "array([0., 1., 2.])"
      ]
     },
     "execution_count": 45,
     "metadata": {},
     "output_type": "execute_result"
    }
   ],
   "source": [
    "np.unique(c_data)"
   ]
  }
 ],
 "metadata": {
  "kernelspec": {
   "display_name": "medical-image",
   "language": "python",
   "name": "python3"
  },
  "language_info": {
   "codemirror_mode": {
    "name": "ipython",
    "version": 3
   },
   "file_extension": ".py",
   "mimetype": "text/x-python",
   "name": "python",
   "nbconvert_exporter": "python",
   "pygments_lexer": "ipython3",
   "version": "3.10.15"
  }
 },
 "nbformat": 4,
 "nbformat_minor": 2
}
